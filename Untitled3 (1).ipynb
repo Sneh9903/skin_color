{
  "nbformat": 4,
  "nbformat_minor": 0,
  "metadata": {
    "colab": {
      "provenance": []
    },
    "kernelspec": {
      "name": "python3",
      "display_name": "Python 3"
    },
    "language_info": {
      "name": "python"
    }
  },
  "cells": [
    {
      "cell_type": "code",
      "execution_count": 1,
      "metadata": {
        "id": "QPuZTJ0FQi4x"
      },
      "outputs": [],
      "source": [
        "import numpy as np\n",
        "import pandas as pd\n",
        "import matplotlib.pyplot as plt\n",
        "import seaborn as sns\n",
        "from tensorflow import keras\n",
        "from tensorflow.keras import Sequential\n",
        "from tensorflow.keras.layers import Dense"
      ]
    },
    {
      "cell_type": "code",
      "source": [
        "data = pd.read_csv(\"Skin_NonSkin.csv\")"
      ],
      "metadata": {
        "id": "i4IWqVL_RcJQ"
      },
      "execution_count": 2,
      "outputs": []
    },
    {
      "cell_type": "code",
      "source": [
        "data.head()"
      ],
      "metadata": {
        "colab": {
          "base_uri": "https://localhost:8080/",
          "height": 206
        },
        "id": "SwSALhDxRnVC",
        "outputId": "6d443891-3d55-42f6-84e4-006b85fb2b05"
      },
      "execution_count": 3,
      "outputs": [
        {
          "output_type": "execute_result",
          "data": {
            "text/plain": [
              "    B   G    R  Skin\n",
              "0  74  85  123     1\n",
              "1  73  84  122     1\n",
              "2  72  83  121     1\n",
              "3  70  81  119     1\n",
              "4  70  81  119     1"
            ],
            "text/html": [
              "\n",
              "  <div id=\"df-0f483c1f-c60f-4054-a579-898735fde4b2\">\n",
              "    <div class=\"colab-df-container\">\n",
              "      <div>\n",
              "<style scoped>\n",
              "    .dataframe tbody tr th:only-of-type {\n",
              "        vertical-align: middle;\n",
              "    }\n",
              "\n",
              "    .dataframe tbody tr th {\n",
              "        vertical-align: top;\n",
              "    }\n",
              "\n",
              "    .dataframe thead th {\n",
              "        text-align: right;\n",
              "    }\n",
              "</style>\n",
              "<table border=\"1\" class=\"dataframe\">\n",
              "  <thead>\n",
              "    <tr style=\"text-align: right;\">\n",
              "      <th></th>\n",
              "      <th>B</th>\n",
              "      <th>G</th>\n",
              "      <th>R</th>\n",
              "      <th>Skin</th>\n",
              "    </tr>\n",
              "  </thead>\n",
              "  <tbody>\n",
              "    <tr>\n",
              "      <th>0</th>\n",
              "      <td>74</td>\n",
              "      <td>85</td>\n",
              "      <td>123</td>\n",
              "      <td>1</td>\n",
              "    </tr>\n",
              "    <tr>\n",
              "      <th>1</th>\n",
              "      <td>73</td>\n",
              "      <td>84</td>\n",
              "      <td>122</td>\n",
              "      <td>1</td>\n",
              "    </tr>\n",
              "    <tr>\n",
              "      <th>2</th>\n",
              "      <td>72</td>\n",
              "      <td>83</td>\n",
              "      <td>121</td>\n",
              "      <td>1</td>\n",
              "    </tr>\n",
              "    <tr>\n",
              "      <th>3</th>\n",
              "      <td>70</td>\n",
              "      <td>81</td>\n",
              "      <td>119</td>\n",
              "      <td>1</td>\n",
              "    </tr>\n",
              "    <tr>\n",
              "      <th>4</th>\n",
              "      <td>70</td>\n",
              "      <td>81</td>\n",
              "      <td>119</td>\n",
              "      <td>1</td>\n",
              "    </tr>\n",
              "  </tbody>\n",
              "</table>\n",
              "</div>\n",
              "      <button class=\"colab-df-convert\" onclick=\"convertToInteractive('df-0f483c1f-c60f-4054-a579-898735fde4b2')\"\n",
              "              title=\"Convert this dataframe to an interactive table.\"\n",
              "              style=\"display:none;\">\n",
              "        \n",
              "  <svg xmlns=\"http://www.w3.org/2000/svg\" height=\"24px\"viewBox=\"0 0 24 24\"\n",
              "       width=\"24px\">\n",
              "    <path d=\"M0 0h24v24H0V0z\" fill=\"none\"/>\n",
              "    <path d=\"M18.56 5.44l.94 2.06.94-2.06 2.06-.94-2.06-.94-.94-2.06-.94 2.06-2.06.94zm-11 1L8.5 8.5l.94-2.06 2.06-.94-2.06-.94L8.5 2.5l-.94 2.06-2.06.94zm10 10l.94 2.06.94-2.06 2.06-.94-2.06-.94-.94-2.06-.94 2.06-2.06.94z\"/><path d=\"M17.41 7.96l-1.37-1.37c-.4-.4-.92-.59-1.43-.59-.52 0-1.04.2-1.43.59L10.3 9.45l-7.72 7.72c-.78.78-.78 2.05 0 2.83L4 21.41c.39.39.9.59 1.41.59.51 0 1.02-.2 1.41-.59l7.78-7.78 2.81-2.81c.8-.78.8-2.07 0-2.86zM5.41 20L4 18.59l7.72-7.72 1.47 1.35L5.41 20z\"/>\n",
              "  </svg>\n",
              "      </button>\n",
              "      \n",
              "  <style>\n",
              "    .colab-df-container {\n",
              "      display:flex;\n",
              "      flex-wrap:wrap;\n",
              "      gap: 12px;\n",
              "    }\n",
              "\n",
              "    .colab-df-convert {\n",
              "      background-color: #E8F0FE;\n",
              "      border: none;\n",
              "      border-radius: 50%;\n",
              "      cursor: pointer;\n",
              "      display: none;\n",
              "      fill: #1967D2;\n",
              "      height: 32px;\n",
              "      padding: 0 0 0 0;\n",
              "      width: 32px;\n",
              "    }\n",
              "\n",
              "    .colab-df-convert:hover {\n",
              "      background-color: #E2EBFA;\n",
              "      box-shadow: 0px 1px 2px rgba(60, 64, 67, 0.3), 0px 1px 3px 1px rgba(60, 64, 67, 0.15);\n",
              "      fill: #174EA6;\n",
              "    }\n",
              "\n",
              "    [theme=dark] .colab-df-convert {\n",
              "      background-color: #3B4455;\n",
              "      fill: #D2E3FC;\n",
              "    }\n",
              "\n",
              "    [theme=dark] .colab-df-convert:hover {\n",
              "      background-color: #434B5C;\n",
              "      box-shadow: 0px 1px 3px 1px rgba(0, 0, 0, 0.15);\n",
              "      filter: drop-shadow(0px 1px 2px rgba(0, 0, 0, 0.3));\n",
              "      fill: #FFFFFF;\n",
              "    }\n",
              "  </style>\n",
              "\n",
              "      <script>\n",
              "        const buttonEl =\n",
              "          document.querySelector('#df-0f483c1f-c60f-4054-a579-898735fde4b2 button.colab-df-convert');\n",
              "        buttonEl.style.display =\n",
              "          google.colab.kernel.accessAllowed ? 'block' : 'none';\n",
              "\n",
              "        async function convertToInteractive(key) {\n",
              "          const element = document.querySelector('#df-0f483c1f-c60f-4054-a579-898735fde4b2');\n",
              "          const dataTable =\n",
              "            await google.colab.kernel.invokeFunction('convertToInteractive',\n",
              "                                                     [key], {});\n",
              "          if (!dataTable) return;\n",
              "\n",
              "          const docLinkHtml = 'Like what you see? Visit the ' +\n",
              "            '<a target=\"_blank\" href=https://colab.research.google.com/notebooks/data_table.ipynb>data table notebook</a>'\n",
              "            + ' to learn more about interactive tables.';\n",
              "          element.innerHTML = '';\n",
              "          dataTable['output_type'] = 'display_data';\n",
              "          await google.colab.output.renderOutput(dataTable, element);\n",
              "          const docLink = document.createElement('div');\n",
              "          docLink.innerHTML = docLinkHtml;\n",
              "          element.appendChild(docLink);\n",
              "        }\n",
              "      </script>\n",
              "    </div>\n",
              "  </div>\n",
              "  "
            ]
          },
          "metadata": {},
          "execution_count": 3
        }
      ]
    },
    {
      "cell_type": "code",
      "source": [
        "data.info()"
      ],
      "metadata": {
        "colab": {
          "base_uri": "https://localhost:8080/"
        },
        "id": "JGtVo9BYRqEx",
        "outputId": "8908a3bd-7827-4cb5-88c4-daa6daffc7a6"
      },
      "execution_count": 4,
      "outputs": [
        {
          "output_type": "stream",
          "name": "stdout",
          "text": [
            "<class 'pandas.core.frame.DataFrame'>\n",
            "RangeIndex: 245057 entries, 0 to 245056\n",
            "Data columns (total 4 columns):\n",
            " #   Column  Non-Null Count   Dtype\n",
            "---  ------  --------------   -----\n",
            " 0   B       245057 non-null  int64\n",
            " 1   G       245057 non-null  int64\n",
            " 2   R       245057 non-null  int64\n",
            " 3   Skin    245057 non-null  int64\n",
            "dtypes: int64(4)\n",
            "memory usage: 7.5 MB\n"
          ]
        }
      ]
    },
    {
      "cell_type": "code",
      "source": [
        "data[\"Skin\"].value_counts()"
      ],
      "metadata": {
        "colab": {
          "base_uri": "https://localhost:8080/"
        },
        "id": "tgYgTk_TT6ja",
        "outputId": "9be9c04d-0dc9-40be-b623-b4c83793ca63"
      },
      "execution_count": 5,
      "outputs": [
        {
          "output_type": "execute_result",
          "data": {
            "text/plain": [
              "2    194198\n",
              "1     50859\n",
              "Name: Skin, dtype: int64"
            ]
          },
          "metadata": {},
          "execution_count": 5
        }
      ]
    },
    {
      "cell_type": "code",
      "source": [
        "data[\"Skin\"]   =  data[\"Skin\"] - 1"
      ],
      "metadata": {
        "id": "wPaHP7N-V57z"
      },
      "execution_count": 6,
      "outputs": []
    },
    {
      "cell_type": "code",
      "source": [
        "from sklearn.model_selection import train_test_split"
      ],
      "metadata": {
        "id": "bh7ueG_0WQeA"
      },
      "execution_count": 7,
      "outputs": []
    },
    {
      "cell_type": "code",
      "source": [
        "x = data.iloc[:,0:-1].values\n",
        "y = data.iloc[:,-1].values"
      ],
      "metadata": {
        "id": "aQLP5VRXXbYA"
      },
      "execution_count": 8,
      "outputs": []
    },
    {
      "cell_type": "code",
      "source": [
        "\n",
        "x_train, x_test, y_train, y_test = train_test_split(x, y, test_size = 0.2, random_state=True)"
      ],
      "metadata": {
        "id": "TEfgnRO5WWBh"
      },
      "execution_count": 9,
      "outputs": []
    },
    {
      "cell_type": "code",
      "source": [
        "\n",
        "model = Sequential()\n",
        "\n",
        "model.add(Dense(3, activation = \"relu\", input_dim = 3))\n",
        "model.add(Dense(3, activation = \"relu\"))\n",
        "model.add(Dense(1, activation = \"sigmoid\"))"
      ],
      "metadata": {
        "id": "2TASJgLzXyPG"
      },
      "execution_count": 11,
      "outputs": []
    },
    {
      "cell_type": "code",
      "source": [
        "\n",
        "model.summary()"
      ],
      "metadata": {
        "colab": {
          "base_uri": "https://localhost:8080/"
        },
        "id": "PKRD0XDVZXqm",
        "outputId": "a36b9115-3e35-4438-9d07-d19ac8e5e66a"
      },
      "execution_count": 12,
      "outputs": [
        {
          "output_type": "stream",
          "name": "stdout",
          "text": [
            "Model: \"sequential\"\n",
            "_________________________________________________________________\n",
            " Layer (type)                Output Shape              Param #   \n",
            "=================================================================\n",
            " dense (Dense)               (None, 3)                 12        \n",
            "                                                                 \n",
            " dense_1 (Dense)             (None, 3)                 12        \n",
            "                                                                 \n",
            " dense_2 (Dense)             (None, 1)                 4         \n",
            "                                                                 \n",
            "=================================================================\n",
            "Total params: 28\n",
            "Trainable params: 28\n",
            "Non-trainable params: 0\n",
            "_________________________________________________________________\n"
          ]
        }
      ]
    },
    {
      "cell_type": "code",
      "source": [
        "model.compile(loss = \"binary_crossentropy\", optimizer = \"Adam\", metrics = [\"accuracy\"])\n",
        "history = model.fit(x_train, y_train, epochs = 20)"
      ],
      "metadata": {
        "colab": {
          "base_uri": "https://localhost:8080/"
        },
        "id": "fYlo4bidZjdR",
        "outputId": "723ff865-be7b-4ce1-fe18-2464aa8496fc"
      },
      "execution_count": 13,
      "outputs": [
        {
          "output_type": "stream",
          "name": "stdout",
          "text": [
            "Epoch 1/20\n",
            "6127/6127 [==============================] - 11s 2ms/step - loss: 0.7639 - accuracy: 0.8094\n",
            "Epoch 2/20\n",
            "6127/6127 [==============================] - 10s 2ms/step - loss: 0.1295 - accuracy: 0.9492\n",
            "Epoch 3/20\n",
            "6127/6127 [==============================] - 10s 2ms/step - loss: 0.1104 - accuracy: 0.9596\n",
            "Epoch 4/20\n",
            "6127/6127 [==============================] - 10s 2ms/step - loss: 0.0816 - accuracy: 0.9719\n",
            "Epoch 5/20\n",
            "6127/6127 [==============================] - 9s 2ms/step - loss: 0.0208 - accuracy: 0.9935\n",
            "Epoch 6/20\n",
            "6127/6127 [==============================] - 10s 2ms/step - loss: 0.0181 - accuracy: 0.9947\n",
            "Epoch 7/20\n",
            "6127/6127 [==============================] - 10s 2ms/step - loss: 0.0172 - accuracy: 0.9950\n",
            "Epoch 8/20\n",
            "6127/6127 [==============================] - 10s 2ms/step - loss: 0.0172 - accuracy: 0.9950\n",
            "Epoch 9/20\n",
            "6127/6127 [==============================] - 10s 2ms/step - loss: 0.0163 - accuracy: 0.9953\n",
            "Epoch 10/20\n",
            "6127/6127 [==============================] - 10s 2ms/step - loss: 0.0171 - accuracy: 0.9952\n",
            "Epoch 11/20\n",
            "6127/6127 [==============================] - 11s 2ms/step - loss: 0.0166 - accuracy: 0.9954\n",
            "Epoch 12/20\n",
            "6127/6127 [==============================] - 11s 2ms/step - loss: 0.0160 - accuracy: 0.9955\n",
            "Epoch 13/20\n",
            "6127/6127 [==============================] - 11s 2ms/step - loss: 0.0161 - accuracy: 0.9954\n",
            "Epoch 14/20\n",
            "6127/6127 [==============================] - 11s 2ms/step - loss: 0.0157 - accuracy: 0.9955\n",
            "Epoch 15/20\n",
            "6127/6127 [==============================] - 10s 2ms/step - loss: 0.0157 - accuracy: 0.9954\n",
            "Epoch 16/20\n",
            "6127/6127 [==============================] - 10s 2ms/step - loss: 0.0149 - accuracy: 0.9956\n",
            "Epoch 17/20\n",
            "6127/6127 [==============================] - 12s 2ms/step - loss: 0.0146 - accuracy: 0.9958\n",
            "Epoch 18/20\n",
            "6127/6127 [==============================] - 13s 2ms/step - loss: 0.0148 - accuracy: 0.9955\n",
            "Epoch 19/20\n",
            "6127/6127 [==============================] - 13s 2ms/step - loss: 0.0144 - accuracy: 0.9957\n",
            "Epoch 20/20\n",
            "6127/6127 [==============================] - 15s 2ms/step - loss: 0.0142 - accuracy: 0.9958\n"
          ]
        }
      ]
    },
    {
      "cell_type": "code",
      "source": [
        "y_log = model.predict(x_test)\n",
        "\n",
        "y_pred = np.where(y_log>0.5, 1, 0)"
      ],
      "metadata": {
        "id": "tyzGriJpbex6",
        "colab": {
          "base_uri": "https://localhost:8080/"
        },
        "outputId": "930e6101-9ccc-470b-8ae2-8388bace802d"
      },
      "execution_count": 14,
      "outputs": [
        {
          "output_type": "stream",
          "name": "stdout",
          "text": [
            "1532/1532 [==============================] - 2s 1ms/step\n"
          ]
        }
      ]
    },
    {
      "cell_type": "code",
      "source": [
        "from sklearn.metrics import accuracy_score\n"
      ],
      "metadata": {
        "id": "5Do6hSq1eEJu"
      },
      "execution_count": 15,
      "outputs": []
    },
    {
      "cell_type": "code",
      "source": [
        "accuracy_score(y_test, y_pred )"
      ],
      "metadata": {
        "colab": {
          "base_uri": "https://localhost:8080/"
        },
        "id": "GQABhcpieeel",
        "outputId": "b9008d93-2e2d-49d1-f5b1-84c3435c11f9"
      },
      "execution_count": 16,
      "outputs": [
        {
          "output_type": "execute_result",
          "data": {
            "text/plain": [
              "0.9965314616828532"
            ]
          },
          "metadata": {},
          "execution_count": 16
        }
      ]
    },
    {
      "cell_type": "code",
      "source": [
        "history.history"
      ],
      "metadata": {
        "id": "3IKa36zieuAV",
        "colab": {
          "base_uri": "https://localhost:8080/"
        },
        "outputId": "fc762d55-ec65-402f-f1ea-ca070db9fb89"
      },
      "execution_count": 17,
      "outputs": [
        {
          "output_type": "execute_result",
          "data": {
            "text/plain": [
              "{'loss': [0.7638676762580872,\n",
              "  0.12947025895118713,\n",
              "  0.11043700575828552,\n",
              "  0.0816146582365036,\n",
              "  0.020830003544688225,\n",
              "  0.01807394251227379,\n",
              "  0.017215387895703316,\n",
              "  0.017188135534524918,\n",
              "  0.016346435993909836,\n",
              "  0.017065132036805153,\n",
              "  0.016597507521510124,\n",
              "  0.016000432893633842,\n",
              "  0.016074076294898987,\n",
              "  0.015652557834982872,\n",
              "  0.015687864273786545,\n",
              "  0.014949344098567963,\n",
              "  0.014565616846084595,\n",
              "  0.014819374307990074,\n",
              "  0.014379321597516537,\n",
              "  0.014173354022204876],\n",
              " 'accuracy': [0.8094009160995483,\n",
              "  0.9492259621620178,\n",
              "  0.9596164226531982,\n",
              "  0.97188401222229,\n",
              "  0.9934912919998169,\n",
              "  0.9946950674057007,\n",
              "  0.9950215220451355,\n",
              "  0.9949654340744019,\n",
              "  0.9953275918960571,\n",
              "  0.9951847791671753,\n",
              "  0.9954296350479126,\n",
              "  0.9954602122306824,\n",
              "  0.9953684210777283,\n",
              "  0.9955265522003174,\n",
              "  0.9954398274421692,\n",
              "  0.9955979585647583,\n",
              "  0.9958071112632751,\n",
              "  0.9954551458358765,\n",
              "  0.9957407712936401,\n",
              "  0.9958223700523376]}"
            ]
          },
          "metadata": {},
          "execution_count": 17
        }
      ]
    },
    {
      "cell_type": "code",
      "source": [
        "plt.plot(history.history['accuracy'], color= 'r')\n",
        "plt.plot(history.history['loss'], color= 'b')"
      ],
      "metadata": {
        "colab": {
          "base_uri": "https://localhost:8080/",
          "height": 447
        },
        "id": "ZXAwsURROby-",
        "outputId": "ee363128-001f-4eb8-b168-d2b9b7c2ed0a"
      },
      "execution_count": 18,
      "outputs": [
        {
          "output_type": "execute_result",
          "data": {
            "text/plain": [
              "[<matplotlib.lines.Line2D at 0x7fde4368b7c0>]"
            ]
          },
          "metadata": {},
          "execution_count": 18
        },
        {
          "output_type": "display_data",
          "data": {
            "text/plain": [
              "<Figure size 640x480 with 1 Axes>"
            ],
            "image/png": "[encoded data removed]"
          },
          "metadata": {}
        }
      ]
    }
  ]
}